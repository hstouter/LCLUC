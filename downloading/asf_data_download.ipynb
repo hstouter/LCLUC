{
 "cells": [
  {
   "cell_type": "markdown",
   "metadata": {},
   "source": [
    "Hannah Stouter  \n",
    "May 25, 2025  \n",
    "##### Search, Request, and Download Sentinel-1 data from NASA Earth Data and the Alaska Satellite Facility  \n",
    "This was put together based on documentation from: ASF_search: https://docs.asf.alaska.edu/  \n"
   ]
  },
  {
   "cell_type": "code",
   "execution_count": 106,
   "metadata": {},
   "outputs": [],
   "source": [
    "import asf_search as asf\n",
    "import hyp3_sdk as sdk\n",
    "from hyp3_sdk import HyP3\n",
    "import earthaccess\n",
    "import pyproj\n",
    "import geopandas as gpd\n",
    "import matplotlib.pyplot as plt\n",
    "from shapely.geometry import box\n",
    "from pathlib import Path\n",
    "import pandas as pd\n",
    "import os\n",
    "import getpass\n"
   ]
  },
  {
   "cell_type": "markdown",
   "metadata": {},
   "source": [
    "Set ROI for geographic search"
   ]
  },
  {
   "cell_type": "code",
   "execution_count": 105,
   "metadata": {},
   "outputs": [
    {
     "name": "stdout",
     "output_type": "stream",
     "text": [
      "   Id                                           geometry\n",
      "0   0  POLYGON ((1277436.254 393886.351, 1253203.36 3...\n",
      "original : EPSG:3857\n",
      "updated : EPSG:4326\n",
      "POLYGON ((11.910780699769553 3.5360943692198314, 11.257717326443535 3.5360943692198314, 11.257717326443535 4.1376852081059345, 11.910780699769553 4.1376852081059345, 11.910780699769553 3.5360943692198314))\n"
     ]
    }
   ],
   "source": [
    "# to get correct CRS\n",
    "pyproj.datadir.set_data_dir(\"/Users/hstouter/anaconda3/envs/remote_sensing/share/proj\")\n",
    "\n",
    "shp_path = (\"/Users/hstouter/Desktop/NASA_LCLUC/RF_datasets/ynd_test_buffer.shp\")\n",
    "shp = gpd.read_file(shp_path)\n",
    "print(shp.head())\n",
    "\n",
    "# Check CRS & update if needed\n",
    "print(\"original :\", shp.crs)\n",
    "\n",
    "# Update CRS\n",
    "shp = shp.to_crs(epsg=4326)\n",
    "print(\"updated :\", shp.crs)\n",
    "\n",
    "# Get bounding box coordinates\n",
    "minx, miny, maxx, maxy = shp.total_bounds\n",
    "\n",
    "# Create a shapely box (polygon)\n",
    "bbox = box(minx, miny, maxx, maxy)\n",
    "\n",
    "# Fix geometry (ensure it's valid and CCW)\n",
    "bbox_fixed = bbox.buffer(0)\n",
    "\n",
    "# Convert to WKT\n",
    "roi = bbox_fixed.wkt\n",
    "\n",
    "print(roi)\n",
    "\n"
   ]
  },
  {
   "cell_type": "markdown",
   "metadata": {},
   "source": [
    "Log into NASA Earthdata"
   ]
  },
  {
   "cell_type": "code",
   "execution_count": 64,
   "metadata": {},
   "outputs": [],
   "source": [
    "def login_earthaccess():\n",
    "    try:\n",
    "        # Login to EarthAccess\n",
    "        earthaccess.login(persist=True)\n",
    "        \n",
    "        # Get token information and store in header\n",
    "        urs = 'urs.earthdata.nasa.gov'\n",
    "        token_response = requests.post(\n",
    "            f'{APPEEARS_API_ENDPOINT}login', \n",
    "            auth=(netrc().authenticators(urs)[0], \n",
    "                netrc().authenticators(urs)[2])\n",
    "        ).json()\n",
    "        token = token_response['token']\n",
    "        head = {'Authorization': f'Bearer {token}'}\n",
    "        \n",
    "        return head\n",
    "    \n",
    "    except Exception as e:\n",
    "        print(f'Error logging into EarthAccess. Error: {e}', flush=True)\n",
    "        time.sleep(SLEEP_TIME)\n",
    "        login_earthaccess() # Retry until we can login\n",
    "        return None"
   ]
  },
  {
   "cell_type": "markdown",
   "metadata": {},
   "source": [
    "Search for Sentinel-1 data"
   ]
  },
  {
   "cell_type": "code",
   "execution_count": 103,
   "metadata": {},
   "outputs": [
    {
     "name": "stderr",
     "output_type": "stream",
     "text": [
      "WARNING:asf_search:WKT REPAIR/VALIDATION: The following repairs were performedon the provided AOI:\n",
      "[\"'type': 'REVERSE': 'report': Reversed polygon winding order\"]\n"
     ]
    },
    {
     "name": "stderr",
     "output_type": "stream",
     "text": [
      "WARNING:asf_search:WKT REPAIR/VALIDATION: The following repairs were performedon the provided AOI:\n",
      "[\"'type': 'REVERSE': 'report': Reversed polygon winding order\"]\n"
     ]
    },
    {
     "name": "stdout",
     "output_type": "stream",
     "text": [
      "S1A_IW_SLC__1SDV_20220926T173638_20220926T173706_045179_05665D_695E\n",
      "S1A_IW_SLC__1SDV_20220921T172842_20220921T172910_045106_0563E3_09FF\n",
      "S1A_IW_SLC__1SDV_20220921T172814_20220921T172844_045106_0563E3_FC70\n",
      "S1A_IW_SLC__1SDV_20220914T173638_20220914T173706_045004_056077_C107\n",
      "S1A_IW_SLC__1SDV_20220909T172843_20220909T172910_044931_055DF8_7A9D\n"
     ]
    }
   ],
   "source": [
    "# Search scenes and get granule ids for RTC processing\n",
    "\n",
    "results_1 = asf.geo_search(\n",
    "    intersectsWith=roi,\n",
    "    platform=asf.PLATFORM.SENTINEL1,\n",
    "    processingLevel=asf.PRODUCT_TYPE.SLC,\n",
    "    start='2021-10-01',\n",
    "    end='2022-09-30'\n",
    ")\n",
    "\n",
    "results_2 = asf.geo_search(\n",
    "    intersectsWith=roi,\n",
    "    platform=asf.PLATFORM.SENTINEL1,\n",
    "    processingLevel=asf.PRODUCT_TYPE.METADATA_GRD_HD,\n",
    "    start='2021-10-01',\n",
    "    end='2022-09-30'\n",
    ")\n",
    "\n",
    "results = results_1 + results_2\n",
    "\n",
    "granule_ids = [result.properties['sceneName'] for result in results]\n",
    "print(\"Granule IDs:\")\n",
    "for gid in granule_ids:\n",
    "    print(gid)\n"
   ]
  },
  {
   "cell_type": "markdown",
   "metadata": {},
   "source": [
    "Request a job for RTC processing"
   ]
  },
  {
   "cell_type": "code",
   "execution_count": 104,
   "metadata": {},
   "outputs": [
    {
     "name": "stdout",
     "output_type": "stream",
     "text": [
      "5 HyP3 Jobs: 0 succeeded, 0 failed, 0 running, 5 pending.\n"
     ]
    }
   ],
   "source": [
    "# Request a job for RTC processing\n",
    "rtc_jobs = sdk.Batch()\n",
    "for g in granule_ids:\n",
    "    rtc_jobs += hyp3.submit_rtc_job(g, \n",
    "                                    name='RTC_sigma_test',\n",
    "                                    radiometry='sigma0',\n",
    "                                    dem_matching=True,\n",
    "                                    scale='decibel',\n",
    "                                    resolution=30,\n",
    "                                    speckle_filter=True,\n",
    "                                    include_rgb=True)\n",
    "print(rtc_jobs)"
   ]
  },
  {
   "cell_type": "markdown",
   "metadata": {},
   "source": [
    "Download request"
   ]
  },
  {
   "cell_type": "code",
   "execution_count": 96,
   "metadata": {},
   "outputs": [
    {
     "name": "stdout",
     "output_type": "stream",
     "text": [
      "87 HyP3 Jobs: 87 succeeded, 0 failed, 0 running, 0 pending.\n",
      "Number of succeeded jobs: 87\n",
      "Number of failed jobs: 0\n"
     ]
    },
    {
     "name": "stderr",
     "output_type": "stream",
     "text": [
      "S1A_IW_20211008T172837_DVP_RTC30_G_sdufem_F200.zip: 100%|██████████| 554M/554M [00:57<00:00, 10.1MB/s]\n",
      "S1A_IW_20211025T173632_DVP_RTC30_G_sdufem_3758.zip: 100%|██████████| 532M/532M [00:48<00:00, 11.4MB/s]\n",
      "S1A_IW_20211020T172809_DVP_RTC30_G_sdufem_3A78.zip: 100%|██████████| 589M/589M [00:51<00:00, 12.0MB/s]\n",
      "S1A_IW_20211001T173632_DVP_RTC30_G_sdufem_2327.zip: 100%|██████████| 533M/533M [00:28<00:00, 19.4MB/s]\n",
      "S1A_IW_20211013T173632_DVP_RTC30_G_sdufem_D2A9.zip: 100%|██████████| 530M/530M [01:01<00:00, 9.01MB/s]\n",
      "S1A_IW_20211008T172809_DVP_RTC30_G_sdufem_CAA4.zip: 100%|██████████| 588M/588M [00:46<00:00, 13.4MB/s]\n",
      "S1A_IW_20211020T172837_DVP_RTC30_G_sdufem_5559.zip: 100%|██████████| 554M/554M [00:30<00:00, 19.1MB/s]\n",
      "S1A_IW_20211106T173632_DVP_RTC30_G_sdufem_948E.zip: 100%|██████████| 532M/532M [00:31<00:00, 18.0MB/s]\n",
      "S1A_IW_20211212T173631_DVP_RTC30_G_sdufem_E3FC.zip: 100%|██████████| 530M/530M [00:44<00:00, 12.5MB/s]\n",
      "S1A_IW_20211219T172835_DVP_RTC30_G_sdufem_B9B9.zip: 100%|██████████| 555M/555M [00:43<00:00, 13.4MB/s]\n",
      "S1A_IW_20211207T172836_DVP_RTC30_G_sdufem_5D88.zip: 100%|██████████| 554M/554M [00:48<00:00, 12.1MB/s]\n",
      "S1A_IW_20211118T173632_DVP_RTC30_G_sdufem_038F.zip: 100%|██████████| 531M/531M [00:30<00:00, 18.3MB/s]\n",
      "S1A_IW_20211130T173631_DVP_RTC30_G_sdufem_8A97.zip: 100%|██████████| 530M/530M [00:45<00:00, 12.3MB/s]\n",
      "S1A_IW_20211113T172809_DVP_RTC30_G_sdufem_B835.zip: 100%|██████████| 587M/587M [00:49<00:00, 12.4MB/s]\n",
      "S1A_IW_20211125T172836_DVP_RTC30_G_sdufem_3F91.zip: 100%|██████████| 554M/554M [00:48<00:00, 11.9MB/s]\n",
      "S1A_IW_20211224T173630_DVP_RTC30_G_sdufem_E6E8.zip: 100%|██████████| 530M/530M [00:46<00:00, 11.9MB/s]\n",
      "S1A_IW_20211113T172837_DVP_RTC30_G_sdufem_151F.zip: 100%|██████████| 554M/554M [00:46<00:00, 12.6MB/s]\n",
      "S1A_IW_20211231T172807_DVP_RTC30_G_sdufem_97C4.zip: 100%|██████████| 587M/587M [00:48<00:00, 12.8MB/s]\n",
      "S1A_IW_20211125T172809_DVP_RTC30_G_sdufem_9841.zip: 100%|██████████| 587M/587M [00:51<00:00, 11.9MB/s]\n",
      "S1A_IW_20211101T172809_DVP_RTC30_G_sdufem_DED5.zip: 100%|██████████| 588M/588M [00:50<00:00, 12.3MB/s]\n",
      "S1A_IW_20220117T173629_DVP_RTC30_G_sdufem_9C54.zip: 100%|██████████| 530M/530M [00:48<00:00, 11.6MB/s]\n",
      "S1A_IW_20220124T172806_DVP_RTC30_G_sdufem_2410.zip: 100%|██████████| 588M/588M [00:49<00:00, 12.5MB/s]\n",
      "S1A_IW_20211219T172808_DVP_RTC30_G_sdufem_18DB.zip: 100%|██████████| 588M/588M [00:49<00:00, 12.5MB/s]\n",
      "S1A_IW_20220105T173629_DVP_RTC30_G_sdufem_45B5.zip: 100%|██████████| 532M/532M [00:44<00:00, 12.6MB/s]\n",
      "S1A_IW_20211101T172837_DVP_RTC30_G_sdufem_A697.zip: 100%|██████████| 553M/553M [00:46<00:00, 12.3MB/s]\n",
      "S1A_IW_20211207T172808_DVP_RTC30_G_sdufem_25BF.zip: 100%|██████████| 587M/587M [00:46<00:00, 13.4MB/s]\n",
      "S1A_IW_20211231T172834_DVP_RTC30_G_sdufem_DC57.zip: 100%|██████████| 557M/557M [00:44<00:00, 13.1MB/s]\n",
      "S1A_IW_20220411T173628_DVP_RTC30_G_sdufem_C9BF.zip: 100%|██████████| 531M/531M [00:47<00:00, 11.8MB/s]\n",
      "S1A_IW_20220330T173628_DVP_RTC30_G_sdufem_01B8.zip: 100%|██████████| 533M/533M [00:31<00:00, 17.8MB/s]\n",
      "S1A_IW_20220124T172833_DVP_RTC30_G_sdufem_BD1E.zip: 100%|██████████| 560M/560M [00:34<00:00, 17.2MB/s]\n",
      "S1A_IW_20220313T172833_DVP_RTC30_G_sdufem_3A54.zip: 100%|██████████| 562M/562M [00:48<00:00, 12.1MB/s]\n",
      "S1A_IW_20220318T173628_DVP_RTC30_G_sdufem_2E17.zip: 100%|██████████| 532M/532M [00:25<00:00, 22.2MB/s]\n",
      "S1A_IW_20220301T172805_DVP_RTC30_G_sdufem_2255.zip: 100%|██████████| 592M/592M [00:38<00:00, 16.0MB/s]\n",
      "S1A_IW_20220210T173628_DVP_RTC30_G_sdufem_0E35.zip: 100%|██████████| 531M/531M [00:32<00:00, 17.1MB/s]\n",
      "S1A_IW_20220306T173628_DVP_RTC30_G_sdufem_F188.zip: 100%|██████████| 532M/532M [00:47<00:00, 11.8MB/s]\n",
      "S1A_IW_20220406T172833_DVP_RTC30_G_sdufem_34CD.zip: 100%|██████████| 559M/559M [00:49<00:00, 11.9MB/s]\n",
      "S1A_IW_20220205T172833_DVP_RTC30_G_sdufem_6DCD.zip: 100%|██████████| 561M/561M [00:49<00:00, 11.8MB/s]\n",
      "S1A_IW_20220205T172805_DVP_RTC30_G_sdufem_6361.zip: 100%|██████████| 589M/589M [00:50<00:00, 12.2MB/s]\n",
      "S1A_IW_20220325T172833_DVP_RTC30_G_sdufem_5953.zip: 100%|██████████| 561M/561M [00:29<00:00, 19.6MB/s]\n",
      "S1A_IW_20220217T172805_DVP_RTC30_G_sdufem_14CF.zip: 100%|██████████| 591M/591M [00:47<00:00, 13.0MB/s]\n",
      "S1A_IW_20220406T172806_DVP_RTC30_G_sdufem_15FE.zip: 100%|██████████| 589M/589M [00:49<00:00, 12.6MB/s]\n",
      "S1A_IW_20220222T173628_DVP_RTC30_G_sdufem_8519.zip: 100%|██████████| 534M/534M [00:29<00:00, 18.9MB/s]\n",
      "S1A_IW_20220301T172833_DVP_RTC30_G_sdufem_88BE.zip: 100%|██████████| 564M/564M [00:43<00:00, 13.6MB/s]\n",
      "S1A_IW_20220313T172805_DVP_RTC30_G_sdufem_0453.zip: 100%|██████████| 591M/591M [00:49<00:00, 12.5MB/s]\n",
      "S1A_IW_20220325T172806_DVP_RTC30_G_sdufem_E304.zip: 100%|██████████| 590M/590M [00:48<00:00, 12.6MB/s]\n",
      "S1A_IW_20220217T172833_DVP_RTC30_G_sdufem_80D1.zip: 100%|██████████| 563M/563M [00:25<00:00, 23.4MB/s]\n",
      "S1A_IW_20220129T173628_DVP_RTC30_G_sdufem_36C3.zip: 100%|██████████| 532M/532M [00:46<00:00, 12.1MB/s]\n",
      "S1A_IW_20220605T172809_DVP_RTC30_G_sdufem_7881.zip: 100%|██████████| 589M/589M [00:21<00:00, 28.4MB/s]\n",
      "S1A_IW_20220430T172807_DVP_RTC30_G_sdufem_2737.zip: 100%|██████████| 588M/588M [00:55<00:00, 11.1MB/s]\n",
      "S1A_IW_20220617T172837_DVP_RTC30_G_sdufem_0D8B.zip: 100%|██████████| 554M/554M [00:45<00:00, 12.7MB/s]\n",
      "S1A_IW_20220629T172838_DVP_RTC30_G_sdufem_5712.zip: 100%|██████████| 556M/556M [00:46<00:00, 12.5MB/s]\n",
      "S1A_IW_20220430T172834_DVP_RTC30_G_sdufem_BBC5.zip: 100%|██████████| 557M/557M [00:47<00:00, 12.3MB/s]\n",
      "S1A_IW_20220524T172836_DVP_RTC30_G_sdufem_7FF0.zip: 100%|██████████| 554M/554M [00:42<00:00, 13.7MB/s]\n",
      "S1A_IW_20220711T172811_DVP_RTC30_G_sdufem_9F7C.zip: 100%|██████████| 587M/587M [00:47<00:00, 12.8MB/s]\n",
      "S1A_IW_20220605T172837_DVP_RTC30_G_sdufem_2080.zip: 100%|██████████| 554M/554M [00:47<00:00, 12.3MB/s]\n",
      "S1A_IW_20220617T172810_DVP_RTC30_G_sdufem_B8D5.zip: 100%|██████████| 590M/590M [00:47<00:00, 13.0MB/s]\n",
      "S1A_IW_20220629T172811_DVP_RTC30_G_sdufem_4A44.zip: 100%|██████████| 588M/588M [00:48<00:00, 12.8MB/s]\n",
      "S1A_IW_20220524T172808_DVP_RTC30_G_sdufem_3693.zip: 100%|██████████| 589M/589M [00:47<00:00, 13.1MB/s]\n",
      "S1A_IW_20220529T173631_DVP_RTC30_G_sdufem_6AAF.zip: 100%|██████████| 533M/533M [00:43<00:00, 13.0MB/s]\n",
      "S1A_IW_20220517T173630_DVP_RTC30_G_sdufem_F652.zip: 100%|██████████| 535M/535M [00:42<00:00, 13.1MB/s]\n",
      "S1A_IW_20220704T173634_DVP_RTC30_G_sdufem_76D4.zip: 100%|██████████| 532M/532M [00:48<00:00, 11.6MB/s]\n",
      "S1A_IW_20220418T172834_DVP_RTC30_G_sdufem_12B5.zip: 100%|██████████| 559M/559M [00:40<00:00, 14.3MB/s]\n",
      "S1A_IW_20220505T173629_DVP_RTC30_G_sdufem_5311.zip: 100%|██████████| 532M/532M [00:46<00:00, 11.9MB/s]\n",
      "S1A_IW_20220610T173632_DVP_RTC30_G_sdufem_41ED.zip: 100%|██████████| 531M/531M [00:45<00:00, 12.3MB/s]\n",
      "S1A_IW_20220622T173633_DVP_RTC30_G_sdufem_8AFA.zip: 100%|██████████| 532M/532M [00:44<00:00, 12.6MB/s]\n",
      "S1A_IW_20220423T173629_DVP_RTC30_G_sdufem_97BF.zip: 100%|██████████| 531M/531M [00:39<00:00, 14.1MB/s]\n",
      "S1A_IW_20220418T172806_DVP_RTC30_G_sdufem_58D7.zip: 100%|██████████| 591M/591M [00:46<00:00, 13.2MB/s]\n",
      "S1A_IW_20220921T172842_DVP_RTC30_G_sdufem_557C.zip: 100%|██████████| 554M/554M [00:49<00:00, 11.8MB/s]\n",
      "S1A_IW_20220816T172814_DVP_RTC30_G_sdufem_337B.zip: 100%|██████████| 586M/586M [00:47<00:00, 13.0MB/s]\n",
      "S1A_IW_20220902T173637_DVP_RTC30_G_sdufem_DDA9.zip: 100%|██████████| 531M/531M [00:45<00:00, 12.2MB/s]\n",
      "S1A_IW_20220728T173635_DVP_RTC30_G_sdufem_AA26.zip: 100%|██████████| 533M/533M [00:44<00:00, 12.4MB/s]\n",
      "S1A_IW_20220828T172814_DVP_RTC30_G_sdufem_7B01.zip: 100%|██████████| 587M/587M [00:45<00:00, 13.6MB/s]\n",
      "S1A_IW_20220816T172841_DVP_RTC30_G_sdufem_43EB.zip: 100%|██████████| 553M/553M [00:45<00:00, 12.7MB/s]\n",
      "S1A_IW_20220809T173636_DVP_RTC30_G_sdufem_F8E1.zip: 100%|██████████| 531M/531M [00:45<00:00, 12.4MB/s]\n",
      "S1A_IW_20220926T173638_DVP_RTC30_G_sdufem_51A8.zip: 100%|██████████| 533M/533M [00:46<00:00, 12.0MB/s]\n",
      "S1A_IW_20220723T172840_DVP_RTC30_G_sdufem_6362.zip: 100%|██████████| 553M/553M [00:41<00:00, 14.0MB/s]\n",
      "S1A_IW_20220711T172839_DVP_RTC30_G_sdufem_A201.zip: 100%|██████████| 555M/555M [00:42<00:00, 13.6MB/s]\n",
      "S1A_IW_20220804T172813_DVP_RTC30_G_sdufem_0F53.zip: 100%|██████████| 587M/587M [00:36<00:00, 16.9MB/s]\n",
      "S1A_IW_20220921T172814_DVP_RTC30_G_sdufem_24A6.zip: 100%|██████████| 588M/588M [00:49<00:00, 12.6MB/s]\n",
      "S1A_IW_20220716T173634_DVP_RTC30_G_sdufem_48DB.zip: 100%|██████████| 532M/532M [00:46<00:00, 12.0MB/s]\n",
      "S1A_IW_20220914T173638_DVP_RTC30_G_sdufem_8FD3.zip: 100%|██████████| 531M/531M [00:40<00:00, 13.8MB/s]\n",
      "S1A_IW_20220804T172841_DVP_RTC30_G_sdufem_EDD3.zip: 100%|██████████| 555M/555M [00:43<00:00, 13.4MB/s]\n",
      "S1A_IW_20220821T173637_DVP_RTC30_G_sdufem_CD7C.zip: 100%|██████████| 529M/529M [00:46<00:00, 11.9MB/s]\n",
      "S1A_IW_20220909T172815_DVP_RTC30_G_sdufem_26B3.zip: 100%|██████████| 588M/588M [00:46<00:00, 13.2MB/s]\n",
      "S1A_IW_20220828T172842_DVP_RTC30_G_sdufem_CEC8.zip: 100%|██████████| 554M/554M [00:46<00:00, 12.5MB/s]\n",
      "S1A_IW_20220723T172812_DVP_RTC30_G_sdufem_E97F.zip: 100%|██████████| 586M/586M [00:41<00:00, 14.7MB/s]\n",
      "S1A_IW_20220909T172843_DVP_RTC30_G_sdufem_BFD5.zip: 100%|██████████| 554M/554M [00:41<00:00, 13.9MB/s]\n",
      "100%|██████████| 87/87 [1:12:51<00:00, 50.25s/it]\n"
     ]
    }
   ],
   "source": [
    "# Set your output directory\n",
    "outDir = (\"/Users/hstouter/Library/CloudStorage/Box-Box/NASA - Land Cover Land Use Change (2023 - 2026)/Data/LCLUC/Sentinel_1/sigma_2022_test\")\n",
    "os.chdir(outDir)  # switch to that directory\n",
    "\n",
    "# Check log in\n",
    "hyp3 = sdk.HyP3()\n",
    "\n",
    "# Search jobs by date\n",
    "all_jobs = hyp3.find_jobs(\n",
    "    start=\"2025-05-23T00:00:00Z\",\n",
    "    end=\"2025-05-23T23:59:59Z\"\n",
    ")\n",
    "\n",
    "# View jobs and their status\n",
    "print(all_jobs)\n",
    "\n",
    "succeeded_jobs = all_jobs.filter_jobs(succeeded=True, running=False, failed=False)\n",
    "print(f'Number of succeeded jobs: {len(succeeded_jobs)}')\n",
    "failed_jobs = all_jobs.filter_jobs(succeeded=False, running=False, failed=True)\n",
    "print(f'Number of failed jobs: {len(failed_jobs)}')\n",
    "\n",
    "# Download jobs \n",
    "file_list = succeeded_jobs.download_files()\n",
    "\n",
    "\n",
    "\n",
    "\n",
    "\n"
   ]
  }
 ],
 "metadata": {
  "kernelspec": {
   "display_name": "remote_sensing",
   "language": "python",
   "name": "python3"
  },
  "language_info": {
   "codemirror_mode": {
    "name": "ipython",
    "version": 3
   },
   "file_extension": ".py",
   "mimetype": "text/x-python",
   "name": "python",
   "nbconvert_exporter": "python",
   "pygments_lexer": "ipython3",
   "version": "3.11.5"
  }
 },
 "nbformat": 4,
 "nbformat_minor": 2
}
